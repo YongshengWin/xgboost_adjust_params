{
 "cells": [
  {
   "cell_type": "code",
   "execution_count": 52,
   "metadata": {},
   "outputs": [],
   "source": [
    "# import package\n",
    "import xgboost as xgb\n",
    "import pandas as pd\n",
    "import numpy as np\n",
    "# !pip install bayesian-optimization\n",
    "from bayes_opt import BayesianOptimization\n",
    "from xgboost.sklearn import XGBClassifier\n",
    "from sklearn import metrics\n",
    "from sklearn import model_selection\n",
    "from sklearn.model_selection import GridSearchCV"
   ]
  },
  {
   "cell_type": "code",
   "execution_count": 53,
   "metadata": {},
   "outputs": [],
   "source": [
    "# read data\n",
    "# data link: https://archive.ics.uci.edu/ml/machine-learning-databases/wine-quality/winequality-red.csv\n",
    "wine_df = pd.read_csv('./winequality-red.csv', sep=';')\n",
    "wine_df['ID'] = range(1, len(wine_df)+1)\n",
    "# Y = wine_df.quality.values\n",
    "# wine_df.quality = np.asarray([1 if i>=6 else 0 for i in Y])\n",
    "wine_df['quality'] = wine_df['quality'].apply(lambda x: 1 if x>=6 else 0)\n",
    "\n",
    "# split train_test data\n",
    "msk = np.random.rand(len(wine_df)) < 0.8\n",
    "train = wine_df[msk]\n",
    "test = wine_df[~msk]\n",
    "\n",
    "label = 'quality'\n",
    "IDcol = 'ID'\n",
    "features = [x for x in train.columns if x not in [label, IDcol]]\n",
    "\n",
    "# convert data format\n",
    "dtrain = xgb.DMatrix(train[features].values, train[label].values)"
   ]
  },
  {
   "cell_type": "code",
   "execution_count": 54,
   "metadata": {},
   "outputs": [],
   "source": [
    "# define cross validation\n",
    "def model_cv(bst, train, features, nfold=5, early_stopping_rounds=30):\n",
    "    params = bst.get_xgb_params()\n",
    "    train = xgb.DMatrix(train[features].values, train[label].values)\n",
    "    \n",
    "    cv_result = xgb.cv(\n",
    "                        params,\n",
    "                        train,\n",
    "                        num_boost_round=bst.get_params()['n_estimators'],\n",
    "                        nfold=nfold,\n",
    "                        metrics=['auc'],\n",
    "                        early_stopping_rounds = early_stopping_rounds)\n",
    "    print(\"最优轮数 : %d\" % cv_result.shape[0])\n",
    "    print(\"最优轮详情：\")\n",
    "    print(cv_result[cv_result.shape[0] - 1:])\n",
    "    return cv_result"
   ]
  },
  {
   "cell_type": "code",
   "execution_count": 55,
   "metadata": {},
   "outputs": [],
   "source": [
    "# define fit function\n",
    "def model_fit(bst, train, test, features, cv_result):\n",
    "    bst.set_params(n_estimators=cv_result.shape[0], eval_metric=['auc'])\n",
    "    bst.fit(train[features], train[label])\n",
    "    train_predict_prob = bst.predict_proba(train[features])[:,1]\n",
    "    train_auc = metrics.roc_auc_score(train[label], train_predict_prob)\n",
    "    print(\"AUC得分 (训练集): %f\" % train_auc)\n",
    "    \n",
    "    test['prob'] = bst.predict_proba(test[features])[:,1]\n",
    "    test_auc = metrics.roc_auc_score(test[label], test['prob'])\n",
    "    print('AUC得分 (测试集): %f' % test_auc)"
   ]
  },
  {
   "cell_type": "code",
   "execution_count": 56,
   "metadata": {},
   "outputs": [
    {
     "name": "stdout",
     "output_type": "stream",
     "text": [
      "最优轮数 : 129\n",
      "最优轮详情：\n",
      "     train-auc-mean  train-auc-std  test-auc-mean  test-auc-std\n",
      "128        0.994242       0.001389       0.871962      0.010059\n",
      "AUC得分 (训练集): 0.989219\n",
      "AUC得分 (测试集): 0.845669\n"
     ]
    },
    {
     "name": "stderr",
     "output_type": "stream",
     "text": [
      "d:\\python\\Anaconda\\SETUP\\envs\\pytorch\\lib\\site-packages\\ipykernel_launcher.py:9: SettingWithCopyWarning: \n",
      "A value is trying to be set on a copy of a slice from a DataFrame.\n",
      "Try using .loc[row_indexer,col_indexer] = value instead\n",
      "\n",
      "See the caveats in the documentation: https://pandas.pydata.org/pandas-docs/stable/user_guide/indexing.html#returning-a-view-versus-a-copy\n",
      "  if __name__ == '__main__':\n"
     ]
    }
   ],
   "source": [
    "model1 = XGBClassifier( learning_rate =0.1,\n",
    "                        n_estimators=1000,\n",
    "                        max_depth=4,\n",
    "                        min_child_weight=1,\n",
    "                        objective= 'binary:logistic',\n",
    "                        subsample=0.8,\n",
    "                        colsample_bytree=0.8,\n",
    "                        nthread=4,\n",
    "                        scale_pos_weight=1,\n",
    "                        seed=10)\n",
    "cv_result = model_cv(model1, train, features)\n",
    "model_fit(model1, train, test, features, cv_result)"
   ]
  },
  {
   "cell_type": "markdown",
   "metadata": {},
   "source": [
    "#### max_depth、min_child_wright参数调优"
   ]
  },
  {
   "cell_type": "code",
   "execution_count": 57,
   "metadata": {},
   "outputs": [
    {
     "name": "stdout",
     "output_type": "stream",
     "text": [
      "0.815400689902854 {'max_depth': 3, 'min_child_weight': 1}\n"
     ]
    }
   ],
   "source": [
    "param1 = {\n",
    "    \"max_depth\":range(3, 10, 2),\n",
    "    \"min_child_weight\":range(1, 6, 2)\n",
    "}\n",
    "\n",
    "bst1 = XGBClassifier(\n",
    "                        learning_rate=0.1,\n",
    "                        n_estimators=136,\n",
    "                        max_depth=4,\n",
    "                        min_child_weight=1,\n",
    "                        objective='binary:logistic',\n",
    "                        nthread=8,\n",
    "                        scale_pos_weight=1,\n",
    "                        subsample=0.8,\n",
    "                        colsample_bytree=0.8,\n",
    "                        seed=10)\n",
    "\n",
    "grid_search1 = GridSearchCV(estimator=bst1,\n",
    "                            param_grid=param1,\n",
    "                            scoring='roc_auc',\n",
    "                            n_jobs=8,\n",
    "                            cv=5)\n",
    "\n",
    "grid_search1.fit(train[features], train[label])\n",
    "print(grid_search1.best_score_,grid_search1.best_params_)"
   ]
  },
  {
   "cell_type": "code",
   "execution_count": 63,
   "metadata": {},
   "outputs": [
    {
     "name": "stdout",
     "output_type": "stream",
     "text": [
      "0.815400689902854 {'max_depth': 3, 'min_child_weight': 1}\n"
     ]
    }
   ],
   "source": [
    "param2 = {\n",
    "    \"max_depth\":[2,3,4],\n",
    "    \"min_child_weight\":[1,2]\n",
    "}\n",
    "\n",
    "bst2 = XGBClassifier(\n",
    "                        learning_rate=0.1,\n",
    "                        n_estimators=136,\n",
    "                        objective='binary:logistic',\n",
    "                        nthread=8,\n",
    "                        scale_pos_weight=1,\n",
    "                        subsample=0.8,\n",
    "                        colsample_bytree=0.8,\n",
    "                        seed=10)\n",
    "\n",
    "grid_search2 = GridSearchCV(estimator=bst2,\n",
    "                            param_grid=param1,\n",
    "                            scoring='roc_auc',\n",
    "                            n_jobs=8,\n",
    "                            cv=5)\n",
    "\n",
    "grid_search2.fit(train[features], train[label])\n",
    "print(grid_search2.best_score_,grid_search2.best_params_)"
   ]
  },
  {
   "cell_type": "markdown",
   "metadata": {},
   "source": [
    "#### gamma参数调优"
   ]
  },
  {
   "cell_type": "code",
   "execution_count": 59,
   "metadata": {},
   "outputs": [
    {
     "name": "stdout",
     "output_type": "stream",
     "text": [
      "0.8179423788955168 {'gamma': 0.1}\n"
     ]
    }
   ],
   "source": [
    "param3 = {\n",
    "    \"gamma\":[i/10.0  for i in range(0,5)]\n",
    "}\n",
    "\n",
    "bst3 = XGBClassifier(\n",
    "                        learning_rate=0.1,\n",
    "                        n_estimators=136,\n",
    "                        max_depth=3,\n",
    "                        min_child_weight=1,\n",
    "                        objective='binary:logistic',\n",
    "                        nthread=8,\n",
    "                        scale_pos_weight=1,\n",
    "                        subsample=0.8,\n",
    "                        colsample_bytree=0.8,\n",
    "                        seed=10)\n",
    "\n",
    "grid_search3 = GridSearchCV(estimator=bst3,\n",
    "                            param_grid=param3,\n",
    "                            scoring='roc_auc',\n",
    "                            n_jobs=8,\n",
    "                            cv=5)\n",
    "\n",
    "grid_search3.fit(train[features], train[label])\n",
    "print(grid_search3.best_score_,grid_search3.best_params_)"
   ]
  },
  {
   "cell_type": "markdown",
   "metadata": {},
   "source": [
    "#### 以最优参数训啦"
   ]
  },
  {
   "cell_type": "code",
   "execution_count": 60,
   "metadata": {},
   "outputs": [
    {
     "name": "stdout",
     "output_type": "stream",
     "text": [
      "最优轮数 : 175\n",
      "最优轮详情：\n",
      "     train-auc-mean  train-auc-std  test-auc-mean  test-auc-std\n",
      "174         0.98037       0.001266       0.866058      0.011882\n",
      "AUC得分 (训练集): 0.973058\n",
      "AUC得分 (测试集): 0.846356\n"
     ]
    },
    {
     "name": "stderr",
     "output_type": "stream",
     "text": [
      "d:\\python\\Anaconda\\SETUP\\envs\\pytorch\\lib\\site-packages\\ipykernel_launcher.py:9: SettingWithCopyWarning: \n",
      "A value is trying to be set on a copy of a slice from a DataFrame.\n",
      "Try using .loc[row_indexer,col_indexer] = value instead\n",
      "\n",
      "See the caveats in the documentation: https://pandas.pydata.org/pandas-docs/stable/user_guide/indexing.html#returning-a-view-versus-a-copy\n",
      "  if __name__ == '__main__':\n"
     ]
    }
   ],
   "source": [
    "model2 = XGBClassifier( learning_rate =0.1,\n",
    "                        n_estimators=500,\n",
    "                        max_depth=3,\n",
    "                        min_child_weight=1,\n",
    "                        gamma=0.1,\n",
    "                        objective= 'binary:logistic',\n",
    "                        subsample=0.8,\n",
    "                        colsample_bytree=0.8,\n",
    "                        nthread=4,\n",
    "                        scale_pos_weight=1,\n",
    "                        seed=10)\n",
    "cv_result = model_cv(model2, train, features)\n",
    "model_fit(model2, train, test, features, cv_result)"
   ]
  },
  {
   "cell_type": "markdown",
   "metadata": {},
   "source": [
    "#### subsample和colsample_bytree参数调优"
   ]
  },
  {
   "cell_type": "code",
   "execution_count": 62,
   "metadata": {},
   "outputs": [
    {
     "name": "stdout",
     "output_type": "stream",
     "text": [
      "0.8200104473833933 {'colsample_bytree': 0.6, 'subsample': 0.9}\n"
     ]
    }
   ],
   "source": [
    "param4 = {\n",
    "    \"subsample\":[i/10.0  for i in range(6,11)],\n",
    "    \"colsample_bytree\":[i/10.0  for i in range(6,11)]\n",
    "}\n",
    "\n",
    "bst4 = XGBClassifier(\n",
    "                        learning_rate=0.1,\n",
    "                        n_estimators=175,\n",
    "                        max_depth=3,\n",
    "                        min_child_weight=1,\n",
    "                        objective='binary:logistic',\n",
    "                        nthread=8,\n",
    "                        gamma=0.1,\n",
    "                        scale_pos_weight=1,\n",
    "                        seed=10)\n",
    "\n",
    "grid_search4 = GridSearchCV(estimator=bst4,\n",
    "                            param_grid=param4,\n",
    "                            scoring='roc_auc',\n",
    "                            n_jobs=8,\n",
    "                            cv=5)\n",
    "\n",
    "grid_search4.fit(train[features], train[label])\n",
    "print(grid_search4.best_score_,grid_search4.best_params_)"
   ]
  },
  {
   "cell_type": "code",
   "execution_count": 64,
   "metadata": {},
   "outputs": [
    {
     "name": "stdout",
     "output_type": "stream",
     "text": [
      "0.8111210718075009 {'colsample_bytree': 0.85, 'subsample': 0.55}\n"
     ]
    }
   ],
   "source": [
    "param5 = {\n",
    "    \"subsample\":[i/100.0  for i in range(55,65,5)],\n",
    "    \"colsample_bytree\":[i/100.0  for i in range(85,95,5)]\n",
    "}\n",
    "\n",
    "bst5 = XGBClassifier(\n",
    "                        learning_rate=0.1,\n",
    "                        n_estimators=175,\n",
    "                        max_depth=3,\n",
    "                        min_child_weight=1,\n",
    "                        objective='binary:logistic',\n",
    "                        nthread=8,\n",
    "                        gamma=0.1,\n",
    "                        scale_pos_weight=1,\n",
    "                        seed=10)\n",
    "\n",
    "grid_search5 = GridSearchCV(estimator=bst5,\n",
    "                            param_grid=param5,\n",
    "                            scoring='roc_auc',\n",
    "                            n_jobs=8,\n",
    "                            cv=5)\n",
    "\n",
    "grid_search5.fit(train[features], train[label])\n",
    "print(grid_search5.best_score_,grid_search5.best_params_)"
   ]
  },
  {
   "cell_type": "markdown",
   "metadata": {},
   "source": [
    "#### 正则参数调优"
   ]
  },
  {
   "cell_type": "code",
   "execution_count": 65,
   "metadata": {},
   "outputs": [
    {
     "name": "stdout",
     "output_type": "stream",
     "text": [
      "0.8111210718075009 {'reg_alpha': 0}\n"
     ]
    }
   ],
   "source": [
    "param6 = {\n",
    "    \"reg_alpha\":[0, 1e-5, 1e-2, 0.1, 1, 100]\n",
    "}\n",
    "\n",
    "bst6 = XGBClassifier(\n",
    "                        learning_rate=0.1,\n",
    "                        n_estimators=175,\n",
    "                        max_depth=3,\n",
    "                        min_child_weight=1,\n",
    "                        objective='binary:logistic',\n",
    "                        nthread=8,\n",
    "                        gamma=0.1,\n",
    "                        scale_pos_weight=1,\n",
    "                        colsample_bytree=0.85,\n",
    "                        subsample=0.55,\n",
    "                        seed=10)\n",
    "\n",
    "grid_search6 = GridSearchCV(estimator=bst6,\n",
    "                            param_grid=param6,\n",
    "                            scoring='roc_auc',\n",
    "                            n_jobs=8,\n",
    "                            cv=5)\n",
    "\n",
    "grid_search6.fit(train[features], train[label])\n",
    "print(grid_search6.best_score_,grid_search6.best_params_)"
   ]
  },
  {
   "cell_type": "code",
   "execution_count": 69,
   "metadata": {},
   "outputs": [
    {
     "name": "stdout",
     "output_type": "stream",
     "text": [
      "0.8111210718075009 {'reg_alpha': 0}\n"
     ]
    }
   ],
   "source": [
    "param7 = {\n",
    "    \"reg_alpha\":[0, 1e-08, 1e-07, 1e-06]\n",
    "}\n",
    "\n",
    "bst7 = XGBClassifier(\n",
    "                        learning_rate=0.1,\n",
    "                        n_estimators=175,\n",
    "                        max_depth=3,\n",
    "                        min_child_weight=1,\n",
    "                        objective='binary:logistic',\n",
    "                        nthread=8,\n",
    "                        gamma=0.1,\n",
    "                        scale_pos_weight=1,\n",
    "                        colsample_bytree=0.85,\n",
    "                        subsample=0.55,\n",
    "                        seed=10)\n",
    "\n",
    "grid_search7 = GridSearchCV(estimator=bst7,\n",
    "                            param_grid=param7,\n",
    "                            scoring='roc_auc',\n",
    "                            n_jobs=8,\n",
    "                            cv=5)\n",
    "\n",
    "grid_search7.fit(train[features], train[label])\n",
    "print(grid_search7.best_score_,grid_search7.best_params_)"
   ]
  },
  {
   "cell_type": "markdown",
   "metadata": {},
   "source": [
    "#### reg_alpha and learning_rate"
   ]
  },
  {
   "cell_type": "code",
   "execution_count": 70,
   "metadata": {},
   "outputs": [
    {
     "name": "stdout",
     "output_type": "stream",
     "text": [
      "最优轮数 : 225\n",
      "最优轮详情：\n",
      "     train-auc-mean  train-auc-std  test-auc-mean  test-auc-std\n",
      "224        0.959825       0.001379       0.863418      0.010058\n",
      "AUC得分 (训练集): 0.953947\n",
      "AUC得分 (测试集): 0.849751\n"
     ]
    },
    {
     "name": "stderr",
     "output_type": "stream",
     "text": [
      "d:\\python\\Anaconda\\SETUP\\envs\\pytorch\\lib\\site-packages\\ipykernel_launcher.py:9: SettingWithCopyWarning: \n",
      "A value is trying to be set on a copy of a slice from a DataFrame.\n",
      "Try using .loc[row_indexer,col_indexer] = value instead\n",
      "\n",
      "See the caveats in the documentation: https://pandas.pydata.org/pandas-docs/stable/user_guide/indexing.html#returning-a-view-versus-a-copy\n",
      "  if __name__ == '__main__':\n"
     ]
    }
   ],
   "source": [
    "model3 = XGBClassifier( learning_rate =0.05,\n",
    "                        n_estimators=500,\n",
    "                        max_depth=3,\n",
    "                        min_child_weight=1,\n",
    "                        gamma=0.1,\n",
    "                        reg_alpha=0,\n",
    "                        objective= 'binary:logistic',\n",
    "                        subsample=0.8,\n",
    "                        colsample_bytree=0.8,\n",
    "                        nthread=4,\n",
    "                        scale_pos_weight=1,\n",
    "                        seed=10)\n",
    "cv_result = model_cv(model3, train, features)\n",
    "model_fit(model3, train, test, features, cv_result)"
   ]
  },
  {
   "cell_type": "code",
   "execution_count": null,
   "metadata": {},
   "outputs": [],
   "source": []
  }
 ],
 "metadata": {
  "kernelspec": {
   "display_name": "Python 3.7.7 ('pytorch')",
   "language": "python",
   "name": "python3"
  },
  "language_info": {
   "codemirror_mode": {
    "name": "ipython",
    "version": 3
   },
   "file_extension": ".py",
   "mimetype": "text/x-python",
   "name": "python",
   "nbconvert_exporter": "python",
   "pygments_lexer": "ipython3",
   "version": "3.7.7"
  },
  "orig_nbformat": 4,
  "vscode": {
   "interpreter": {
    "hash": "16b75667c7aad3f9b1b750347b54e55b03c4b3559782cc9751116ac2ce2482ae"
   }
  }
 },
 "nbformat": 4,
 "nbformat_minor": 2
}
