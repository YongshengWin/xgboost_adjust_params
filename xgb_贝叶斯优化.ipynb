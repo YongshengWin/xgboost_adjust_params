{
 "cells": [
  {
   "cell_type": "markdown",
   "metadata": {},
   "source": [
    "## 1. 贝叶斯优化"
   ]
  },
  {
   "cell_type": "code",
   "execution_count": 1,
   "metadata": {},
   "outputs": [],
   "source": [
    "# import package\n",
    "import xgboost as xgb\n",
    "import pandas as pd\n",
    "import numpy as np\n",
    "# !pip install bayesian-optimization\n",
    "from bayes_opt import BayesianOptimization\n",
    "from xgboost.sklearn import XGBClassifier\n",
    "from sklearn import metrics\n",
    "from sklearn import model_selection\n",
    "\n",
    "import json"
   ]
  },
  {
   "cell_type": "code",
   "execution_count": 2,
   "metadata": {},
   "outputs": [],
   "source": [
    "# read data\n",
    "# data link: https://archive.ics.uci.edu/ml/machine-learning-databases/wine-quality/winequality-red.csv\n",
    "wine_df = pd.read_csv('./winequality-red.csv', sep=';')\n",
    "wine_df['ID'] = range(1, len(wine_df)+1)\n",
    "# Y = wine_df.quality.values\n",
    "# wine_df.quality = np.asarray([1 if i>=6 else 0 for i in Y])\n",
    "wine_df['quality'] = wine_df['quality'].apply(lambda x: 1 if x>=6 else 0)\n",
    "\n",
    "# split train_test data\n",
    "msk = np.random.rand(len(wine_df)) < 0.8\n",
    "train = wine_df[msk]\n",
    "test = wine_df[~msk]\n",
    "\n",
    "label = 'quality'\n",
    "IDcol = 'ID'\n",
    "features = [x for x in train.columns if x not in [label, IDcol]]\n",
    "\n",
    "# convert data format\n",
    "dtrain = xgb.DMatrix(train[features].values, train[label].values)"
   ]
  },
  {
   "cell_type": "code",
   "execution_count": 3,
   "metadata": {},
   "outputs": [],
   "source": [
    "# define optimize function\n",
    "def xgb_optimize(learning_rate, n_estimators, min_child_weight, max_depth, subsample, gamma, alpha):\n",
    "    params = {}\n",
    "    params['learning_rate'] = float(learning_rate)\n",
    "    params['min_child_weight'] = int(min_child_weight)\n",
    "    params['max_depth'] = int(max_depth)\n",
    "    params['subsample'] = max(min(subsample, 1), 0)\n",
    "    params['gamma'] = max(gamma, 0)\n",
    "    params['alpha'] = max(alpha, 0)\n",
    "    params['objective'] = 'binary:logistic'\n",
    "\n",
    "    cv_result = xgb.cv( params, \n",
    "                        dtrain, \n",
    "                        num_boost_round=int(n_estimators),\n",
    "                        nfold=5,\n",
    "                        seed=10,\n",
    "                        metrics=['auc'],\n",
    "                        callbacks=[xgb.callback.EarlyStopping(50)])\n",
    "    return cv_result['test-auc-mean'].iloc[-1]"
   ]
  },
  {
   "cell_type": "code",
   "execution_count": 4,
   "metadata": {},
   "outputs": [],
   "source": [
    "# instantiation and input params\n",
    "xgb_opt = BayesianOptimization(xgb_optimize, {  'learning_rate': (0.05, 0.5),\n",
    "                                                'n_estimators': (50, 500),\n",
    "                                                'min_child_weight': (1, 10),\n",
    "                                                'max_depth': (4, 10),\n",
    "                                                'subsample': (0.5, 1),\n",
    "                                                'gamma': (0, 10),\n",
    "                                                'alpha':(0, 10)})"
   ]
  },
  {
   "cell_type": "code",
   "execution_count": 5,
   "metadata": {},
   "outputs": [
    {
     "name": "stdout",
     "output_type": "stream",
     "text": [
      "|   iter    |  target   |   alpha   |   gamma   | learni... | max_depth | min_ch... | n_esti... | subsample |\n",
      "-------------------------------------------------------------------------------------------------------------\n",
      "| \u001b[0m 1       \u001b[0m | \u001b[0m 0.8258  \u001b[0m | \u001b[0m 1.728   \u001b[0m | \u001b[0m 9.429   \u001b[0m | \u001b[0m 0.1192  \u001b[0m | \u001b[0m 9.302   \u001b[0m | \u001b[0m 6.505   \u001b[0m | \u001b[0m 177.6   \u001b[0m | \u001b[0m 0.9912  \u001b[0m |\n",
      "| \u001b[0m 2       \u001b[0m | \u001b[0m 0.8228  \u001b[0m | \u001b[0m 3.834   \u001b[0m | \u001b[0m 7.81    \u001b[0m | \u001b[0m 0.17    \u001b[0m | \u001b[0m 7.969   \u001b[0m | \u001b[0m 2.224   \u001b[0m | \u001b[0m 426.6   \u001b[0m | \u001b[0m 0.5931  \u001b[0m |\n",
      "| \u001b[95m 3       \u001b[0m | \u001b[95m 0.8549  \u001b[0m | \u001b[95m 1.731   \u001b[0m | \u001b[95m 1.274   \u001b[0m | \u001b[95m 0.2261  \u001b[0m | \u001b[95m 5.692   \u001b[0m | \u001b[95m 1.147   \u001b[0m | \u001b[95m 398.9   \u001b[0m | \u001b[95m 0.5138  \u001b[0m |\n",
      "| \u001b[0m 4       \u001b[0m | \u001b[0m 0.8168  \u001b[0m | \u001b[0m 4.727   \u001b[0m | \u001b[0m 8.562   \u001b[0m | \u001b[0m 0.1233  \u001b[0m | \u001b[0m 7.645   \u001b[0m | \u001b[0m 3.508   \u001b[0m | \u001b[0m 205.2   \u001b[0m | \u001b[0m 0.5345  \u001b[0m |\n",
      "| \u001b[0m 5       \u001b[0m | \u001b[0m 0.8372  \u001b[0m | \u001b[0m 0.03127 \u001b[0m | \u001b[0m 6.758   \u001b[0m | \u001b[0m 0.1978  \u001b[0m | \u001b[0m 5.374   \u001b[0m | \u001b[0m 1.344   \u001b[0m | \u001b[0m 150.5   \u001b[0m | \u001b[0m 0.7825  \u001b[0m |\n",
      "| \u001b[0m 6       \u001b[0m | \u001b[0m 0.8456  \u001b[0m | \u001b[0m 2.237   \u001b[0m | \u001b[0m 0.7375  \u001b[0m | \u001b[0m 0.3474  \u001b[0m | \u001b[0m 5.27    \u001b[0m | \u001b[0m 1.817   \u001b[0m | \u001b[0m 396.3   \u001b[0m | \u001b[0m 0.5438  \u001b[0m |\n",
      "| \u001b[0m 7       \u001b[0m | \u001b[0m 0.8479  \u001b[0m | \u001b[0m 0.889   \u001b[0m | \u001b[0m 5.302   \u001b[0m | \u001b[0m 0.05    \u001b[0m | \u001b[0m 6.391   \u001b[0m | \u001b[0m 1.0     \u001b[0m | \u001b[0m 401.4   \u001b[0m | \u001b[0m 0.586   \u001b[0m |\n",
      "| \u001b[95m 8       \u001b[0m | \u001b[95m 0.8676  \u001b[0m | \u001b[95m 0.4785  \u001b[0m | \u001b[95m 0.09397 \u001b[0m | \u001b[95m 0.1056  \u001b[0m | \u001b[95m 9.092   \u001b[0m | \u001b[95m 2.851   \u001b[0m | \u001b[95m 400.8   \u001b[0m | \u001b[95m 0.5601  \u001b[0m |\n",
      "| \u001b[0m 9       \u001b[0m | \u001b[0m 0.85    \u001b[0m | \u001b[0m 4.923   \u001b[0m | \u001b[0m 0.0     \u001b[0m | \u001b[0m 0.3839  \u001b[0m | \u001b[0m 10.0    \u001b[0m | \u001b[0m 4.042   \u001b[0m | \u001b[0m 405.0   \u001b[0m | \u001b[0m 0.5     \u001b[0m |\n",
      "| \u001b[0m 10      \u001b[0m | \u001b[0m 0.8601  \u001b[0m | \u001b[0m 0.0     \u001b[0m | \u001b[0m 0.0     \u001b[0m | \u001b[0m 0.05    \u001b[0m | \u001b[0m 10.0    \u001b[0m | \u001b[0m 8.991   \u001b[0m | \u001b[0m 400.3   \u001b[0m | \u001b[0m 1.0     \u001b[0m |\n",
      "| \u001b[0m 11      \u001b[0m | \u001b[0m 0.8321  \u001b[0m | \u001b[0m 8.934   \u001b[0m | \u001b[0m 0.9257  \u001b[0m | \u001b[0m 0.2691  \u001b[0m | \u001b[0m 9.777   \u001b[0m | \u001b[0m 1.617   \u001b[0m | \u001b[0m 50.4    \u001b[0m | \u001b[0m 0.5409  \u001b[0m |\n",
      "| \u001b[0m 12      \u001b[0m | \u001b[0m 0.852   \u001b[0m | \u001b[0m 0.2966  \u001b[0m | \u001b[0m 1.003   \u001b[0m | \u001b[0m 0.2959  \u001b[0m | \u001b[0m 4.963   \u001b[0m | \u001b[0m 6.221   \u001b[0m | \u001b[0m 403.1   \u001b[0m | \u001b[0m 0.5648  \u001b[0m |\n",
      "| \u001b[0m 13      \u001b[0m | \u001b[0m 0.8154  \u001b[0m | \u001b[0m 7.08    \u001b[0m | \u001b[0m 9.534   \u001b[0m | \u001b[0m 0.375   \u001b[0m | \u001b[0m 9.334   \u001b[0m | \u001b[0m 9.744   \u001b[0m | \u001b[0m 302.4   \u001b[0m | \u001b[0m 0.7541  \u001b[0m |\n",
      "| \u001b[0m 14      \u001b[0m | \u001b[0m 0.8417  \u001b[0m | \u001b[0m 9.805   \u001b[0m | \u001b[0m 0.2023  \u001b[0m | \u001b[0m 0.2709  \u001b[0m | \u001b[0m 8.523   \u001b[0m | \u001b[0m 3.906   \u001b[0m | \u001b[0m 500.0   \u001b[0m | \u001b[0m 0.5297  \u001b[0m |\n",
      "| \u001b[0m 15      \u001b[0m | \u001b[0m 0.8226  \u001b[0m | \u001b[0m 4.441   \u001b[0m | \u001b[0m 9.828   \u001b[0m | \u001b[0m 0.3682  \u001b[0m | \u001b[0m 6.598   \u001b[0m | \u001b[0m 7.075   \u001b[0m | \u001b[0m 480.0   \u001b[0m | \u001b[0m 0.8035  \u001b[0m |\n",
      "| \u001b[0m 16      \u001b[0m | \u001b[0m 0.8116  \u001b[0m | \u001b[0m 9.878   \u001b[0m | \u001b[0m 9.829   \u001b[0m | \u001b[0m 0.1071  \u001b[0m | \u001b[0m 8.316   \u001b[0m | \u001b[0m 8.665   \u001b[0m | \u001b[0m 103.8   \u001b[0m | \u001b[0m 0.7594  \u001b[0m |\n",
      "| \u001b[0m 17      \u001b[0m | \u001b[0m 0.8565  \u001b[0m | \u001b[0m 0.725   \u001b[0m | \u001b[0m 0.05315 \u001b[0m | \u001b[0m 0.4918  \u001b[0m | \u001b[0m 8.557   \u001b[0m | \u001b[0m 1.066   \u001b[0m | \u001b[0m 254.2   \u001b[0m | \u001b[0m 0.6055  \u001b[0m |\n",
      "| \u001b[0m 18      \u001b[0m | \u001b[0m 0.8386  \u001b[0m | \u001b[0m 0.1027  \u001b[0m | \u001b[0m 4.504   \u001b[0m | \u001b[0m 0.09331 \u001b[0m | \u001b[0m 7.305   \u001b[0m | \u001b[0m 10.0    \u001b[0m | \u001b[0m 251.3   \u001b[0m | \u001b[0m 1.0     \u001b[0m |\n",
      "| \u001b[0m 19      \u001b[0m | \u001b[0m 0.8495  \u001b[0m | \u001b[0m 3.645   \u001b[0m | \u001b[0m 0.0     \u001b[0m | \u001b[0m 0.5     \u001b[0m | \u001b[0m 9.652   \u001b[0m | \u001b[0m 1.0     \u001b[0m | \u001b[0m 263.6   \u001b[0m | \u001b[0m 0.5     \u001b[0m |\n",
      "| \u001b[0m 20      \u001b[0m | \u001b[0m 0.8365  \u001b[0m | \u001b[0m 10.0    \u001b[0m | \u001b[0m 0.0     \u001b[0m | \u001b[0m 0.5     \u001b[0m | \u001b[0m 10.0    \u001b[0m | \u001b[0m 1.0     \u001b[0m | \u001b[0m 252.7   \u001b[0m | \u001b[0m 0.5     \u001b[0m |\n",
      "| \u001b[0m 21      \u001b[0m | \u001b[0m 0.8334  \u001b[0m | \u001b[0m 1.134   \u001b[0m | \u001b[0m 7.63    \u001b[0m | \u001b[0m 0.4109  \u001b[0m | \u001b[0m 8.543   \u001b[0m | \u001b[0m 1.075   \u001b[0m | \u001b[0m 259.0   \u001b[0m | \u001b[0m 0.6552  \u001b[0m |\n",
      "| \u001b[0m 22      \u001b[0m | \u001b[0m 0.8524  \u001b[0m | \u001b[0m 0.0     \u001b[0m | \u001b[0m 0.0     \u001b[0m | \u001b[0m 0.5     \u001b[0m | \u001b[0m 4.0     \u001b[0m | \u001b[0m 1.0     \u001b[0m | \u001b[0m 246.4   \u001b[0m | \u001b[0m 0.5     \u001b[0m |\n",
      "| \u001b[95m 23      \u001b[0m | \u001b[95m 0.8682  \u001b[0m | \u001b[95m 0.1656  \u001b[0m | \u001b[95m 0.000365\u001b[0m | \u001b[95m 0.07552 \u001b[0m | \u001b[95m 9.85    \u001b[0m | \u001b[95m 3.028   \u001b[0m | \u001b[95m 238.1   \u001b[0m | \u001b[95m 0.5175  \u001b[0m |\n",
      "| \u001b[0m 24      \u001b[0m | \u001b[0m 0.8641  \u001b[0m | \u001b[0m 0.0     \u001b[0m | \u001b[0m 0.0     \u001b[0m | \u001b[0m 0.5     \u001b[0m | \u001b[0m 5.85    \u001b[0m | \u001b[0m 1.0     \u001b[0m | \u001b[0m 232.3   \u001b[0m | \u001b[0m 1.0     \u001b[0m |\n",
      "| \u001b[0m 25      \u001b[0m | \u001b[0m 0.8491  \u001b[0m | \u001b[0m 0.0     \u001b[0m | \u001b[0m 0.0     \u001b[0m | \u001b[0m 0.05    \u001b[0m | \u001b[0m 10.0    \u001b[0m | \u001b[0m 9.379   \u001b[0m | \u001b[0m 232.5   \u001b[0m | \u001b[0m 0.5     \u001b[0m |\n",
      "| \u001b[0m 26      \u001b[0m | \u001b[0m 0.8443  \u001b[0m | \u001b[0m 0.0     \u001b[0m | \u001b[0m 7.056   \u001b[0m | \u001b[0m 0.2691  \u001b[0m | \u001b[0m 10.0    \u001b[0m | \u001b[0m 1.0     \u001b[0m | \u001b[0m 236.1   \u001b[0m | \u001b[0m 1.0     \u001b[0m |\n",
      "| \u001b[0m 27      \u001b[0m | \u001b[0m 0.847   \u001b[0m | \u001b[0m 6.344   \u001b[0m | \u001b[0m 0.0     \u001b[0m | \u001b[0m 0.05    \u001b[0m | \u001b[0m 6.581   \u001b[0m | \u001b[0m 1.333   \u001b[0m | \u001b[0m 236.6   \u001b[0m | \u001b[0m 0.5     \u001b[0m |\n",
      "| \u001b[0m 28      \u001b[0m | \u001b[0m 0.8673  \u001b[0m | \u001b[0m 0.0     \u001b[0m | \u001b[0m 0.0     \u001b[0m | \u001b[0m 0.5     \u001b[0m | \u001b[0m 10.0    \u001b[0m | \u001b[0m 1.0     \u001b[0m | \u001b[0m 243.3   \u001b[0m | \u001b[0m 1.0     \u001b[0m |\n",
      "| \u001b[0m 29      \u001b[0m | \u001b[0m 0.8538  \u001b[0m | \u001b[0m 0.0     \u001b[0m | \u001b[0m 0.0     \u001b[0m | \u001b[0m 0.5     \u001b[0m | \u001b[0m 10.0    \u001b[0m | \u001b[0m 7.312   \u001b[0m | \u001b[0m 242.5   \u001b[0m | \u001b[0m 1.0     \u001b[0m |\n",
      "| \u001b[0m 30      \u001b[0m | \u001b[0m 0.8524  \u001b[0m | \u001b[0m 0.0     \u001b[0m | \u001b[0m 0.0     \u001b[0m | \u001b[0m 0.5     \u001b[0m | \u001b[0m 4.0     \u001b[0m | \u001b[0m 1.0     \u001b[0m | \u001b[0m 223.3   \u001b[0m | \u001b[0m 0.5     \u001b[0m |\n",
      "| \u001b[0m 31      \u001b[0m | \u001b[0m 0.847   \u001b[0m | \u001b[0m 0.08476 \u001b[0m | \u001b[0m 3.573   \u001b[0m | \u001b[0m 0.1117  \u001b[0m | \u001b[0m 9.775   \u001b[0m | \u001b[0m 9.583   \u001b[0m | \u001b[0m 349.9   \u001b[0m | \u001b[0m 0.6123  \u001b[0m |\n",
      "| \u001b[0m 32      \u001b[0m | \u001b[0m 0.8172  \u001b[0m | \u001b[0m 8.925   \u001b[0m | \u001b[0m 9.807   \u001b[0m | \u001b[0m 0.3435  \u001b[0m | \u001b[0m 4.493   \u001b[0m | \u001b[0m 2.96    \u001b[0m | \u001b[0m 360.2   \u001b[0m | \u001b[0m 0.7285  \u001b[0m |\n",
      "| \u001b[0m 33      \u001b[0m | \u001b[0m 0.854   \u001b[0m | \u001b[0m 0.0     \u001b[0m | \u001b[0m 0.0     \u001b[0m | \u001b[0m 0.05    \u001b[0m | \u001b[0m 10.0    \u001b[0m | \u001b[0m 7.68    \u001b[0m | \u001b[0m 334.5   \u001b[0m | \u001b[0m 0.5     \u001b[0m |\n",
      "| \u001b[0m 34      \u001b[0m | \u001b[0m 0.8294  \u001b[0m | \u001b[0m 0.0     \u001b[0m | \u001b[0m 10.0    \u001b[0m | \u001b[0m 0.05    \u001b[0m | \u001b[0m 4.0     \u001b[0m | \u001b[0m 10.0    \u001b[0m | \u001b[0m 334.9   \u001b[0m | \u001b[0m 0.5     \u001b[0m |\n",
      "| \u001b[0m 35      \u001b[0m | \u001b[0m 0.8553  \u001b[0m | \u001b[0m 6.143   \u001b[0m | \u001b[0m 0.003623\u001b[0m | \u001b[0m 0.3619  \u001b[0m | \u001b[0m 9.237   \u001b[0m | \u001b[0m 4.437   \u001b[0m | \u001b[0m 326.1   \u001b[0m | \u001b[0m 0.7766  \u001b[0m |\n",
      "=============================================================================================================\n"
     ]
    }
   ],
   "source": [
    "xgb_opt.maximize(init_points=5, n_iter=30)"
   ]
  },
  {
   "cell_type": "code",
   "execution_count": 6,
   "metadata": {},
   "outputs": [
    {
     "name": "stdout",
     "output_type": "stream",
     "text": [
      "{\n",
      "    \"alpha\": 0.16558540376060082,\n",
      "    \"gamma\": 0.0003657217002028812,\n",
      "    \"learning_rate\": 0.07551952882529753,\n",
      "    \"max_depth\": 9.850471727665845,\n",
      "    \"min_child_weight\": 3.0281294265751795,\n",
      "    \"n_estimators\": 238.0502069289133,\n",
      "    \"subsample\": 0.5174565818606155\n",
      "}\n"
     ]
    }
   ],
   "source": [
    "print(json.dumps(xgb_opt.max['params'], indent=4, sort_keys=True))"
   ]
  },
  {
   "cell_type": "code",
   "execution_count": 7,
   "metadata": {},
   "outputs": [],
   "source": [
    "# define fit function\n",
    "def model_fit(bst, train, test, features, cv_result):\n",
    "    bst.set_params(n_estimators=cv_result.shape[0], eval_metric=['auc'])\n",
    "    bst.fit(train[features], train[label])\n",
    "    train_predict_prob = bst.predict_proba(train[features])[:,1]\n",
    "    train_auc = metrics.roc_auc_score(train[label], train_predict_prob)\n",
    "    print(\"AUC得分 (训练集): %f\" % train_auc)\n",
    "    \n",
    "    test['prob'] = bst.predict_proba(test[features])[:,1]\n",
    "    test_auc = metrics.roc_auc_score(test[label], test['prob'])\n",
    "    print('AUC得分 (测试集): %f' % test_auc)"
   ]
  },
  {
   "cell_type": "code",
   "execution_count": 8,
   "metadata": {},
   "outputs": [],
   "source": [
    "# define cross validation\n",
    "def model_cv(bst, train, features, nfold=5, early_stopping_rounds=30):\n",
    "    params = bst.get_xgb_params()\n",
    "    train = xgb.DMatrix(train[features].values, train[label].values)\n",
    "    \n",
    "    cv_result = xgb.cv(\n",
    "                        params,\n",
    "                        train,\n",
    "                        num_boost_round=bst.get_params()['n_estimators'],\n",
    "                        nfold=nfold,\n",
    "                        metrics=['auc'],\n",
    "                        early_stopping_rounds = early_stopping_rounds)\n",
    "    print(\"最优轮数 : %d\" % cv_result.shape[0])\n",
    "    print(\"最优轮详情：\")\n",
    "    print(cv_result[cv_result.shape[0] - 1:])\n",
    "    return cv_result"
   ]
  },
  {
   "cell_type": "code",
   "execution_count": 9,
   "metadata": {},
   "outputs": [
    {
     "name": "stdout",
     "output_type": "stream",
     "text": [
      "最优轮数 : 50\n",
      "最优轮详情：\n",
      "    train-auc-mean  train-auc-std  test-auc-mean  test-auc-std\n",
      "49        0.999984        0.00001       0.851399      0.021094\n",
      "AUC得分 (训练集): 1.000000\n",
      "AUC得分 (测试集): 0.871088\n"
     ]
    },
    {
     "name": "stderr",
     "output_type": "stream",
     "text": [
      "d:\\python\\Anaconda\\SETUP\\envs\\pytorch\\lib\\site-packages\\ipykernel_launcher.py:9: SettingWithCopyWarning: \n",
      "A value is trying to be set on a copy of a slice from a DataFrame.\n",
      "Try using .loc[row_indexer,col_indexer] = value instead\n",
      "\n",
      "See the caveats in the documentation: https://pandas.pydata.org/pandas-docs/stable/user_guide/indexing.html#returning-a-view-versus-a-copy\n",
      "  if __name__ == '__main__':\n"
     ]
    }
   ],
   "source": [
    "model = XGBClassifier(  learning_rate =0.184,\n",
    "                        n_estimators=176,\n",
    "                        max_depth=10,\n",
    "                        min_child_weight=1.8963,\n",
    "                        objective= 'binary:logistic',\n",
    "                        subsample=0.8627,\n",
    "                        nthread=4,\n",
    "                        gamma=0.25,\n",
    "                        alpha=0.05342,\n",
    "                        seed=10)\n",
    "cv_result = model_cv(model, train, features)\n",
    "\n",
    "model_fit(model, train, test, features, cv_result)"
   ]
  },
  {
   "cell_type": "code",
   "execution_count": null,
   "metadata": {},
   "outputs": [],
   "source": []
  }
 ],
 "metadata": {
  "kernelspec": {
   "display_name": "Python 3.7.7 ('pytorch')",
   "language": "python",
   "name": "python3"
  },
  "language_info": {
   "codemirror_mode": {
    "name": "ipython",
    "version": 3
   },
   "file_extension": ".py",
   "mimetype": "text/x-python",
   "name": "python",
   "nbconvert_exporter": "python",
   "pygments_lexer": "ipython3",
   "version": "3.7.7"
  },
  "orig_nbformat": 4,
  "vscode": {
   "interpreter": {
    "hash": "16b75667c7aad3f9b1b750347b54e55b03c4b3559782cc9751116ac2ce2482ae"
   }
  }
 },
 "nbformat": 4,
 "nbformat_minor": 2
}
